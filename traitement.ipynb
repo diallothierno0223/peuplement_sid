{
 "cells": [
  {
   "cell_type": "markdown",
   "id": "2f9e92dd-ac89-4320-bd7c-f37ff869571f",
   "metadata": {
    "jp-MarkdownHeadingCollapsed": true
   },
   "source": [
    "# Import des module"
   ]
  },
  {
   "cell_type": "code",
   "execution_count": 1,
   "id": "699767c6-a15e-4754-976a-7e5e70548779",
   "metadata": {},
   "outputs": [],
   "source": [
    "import json\n",
    "import psycopg2 as pg \n",
    "import datetime as dt "
   ]
  },
  {
   "cell_type": "markdown",
   "id": "52f2b06b-e631-4940-b0f0-cbc26b3ff6d5",
   "metadata": {
    "jp-MarkdownHeadingCollapsed": true
   },
   "source": [
    "# config de base et lecture fichier"
   ]
  },
  {
   "cell_type": "markdown",
   "id": "fdbca41a-11c0-403a-8aaf-927dbe42ce4c",
   "metadata": {
    "jp-MarkdownHeadingCollapsed": true
   },
   "source": [
    "## ouverture connexion"
   ]
  },
  {
   "cell_type": "code",
   "execution_count": 2,
   "id": "94f31d83-6c6e-4b58-9738-0e45d35794ed",
   "metadata": {},
   "outputs": [],
   "source": [
    "conn = pg.connect(database=\"vol\",\n",
    "                        host=\"127.0.0.1\",\n",
    "                        user=\"postgres\",\n",
    "                        password=\"postgres\",\n",
    "                        port=\"5432\")"
   ]
  },
  {
   "cell_type": "code",
   "execution_count": 3,
   "id": "d627d089-efbe-4e37-a0e1-024fb04efb14",
   "metadata": {},
   "outputs": [],
   "source": [
    "def execute_query(query, conn = conn):\n",
    "    cursor = conn.cursor()\n",
    "    cursor.execute(query)\n",
    "    cursor.close()\n",
    "    conn.commit()"
   ]
  },
  {
   "cell_type": "markdown",
   "id": "92a4f58d-372b-4f7d-88e0-8347c27b7268",
   "metadata": {
    "jp-MarkdownHeadingCollapsed": true
   },
   "source": [
    "## lecture et exution file create_work_db"
   ]
  },
  {
   "cell_type": "code",
   "execution_count": 4,
   "id": "de03f5c3-e0ad-4e61-9c5e-6d4d48ff456f",
   "metadata": {},
   "outputs": [],
   "source": [
    "with open(\"create_work_db.sql\", \"r\")  as work_db:\n",
    "    lines = work_db.readlines()\n",
    "\n",
    "query = \"\"\n",
    "for i in lines:\n",
    "    i = i.strip()\n",
    "    query += i\n",
    "\n",
    "cursor = conn.cursor()\n",
    "cursor.execute(query)\n",
    "cursor.close()\n",
    "conn.commit()"
   ]
  },
  {
   "cell_type": "markdown",
   "id": "2a0de80a-6d85-48ce-9e6d-accc7d1ada4f",
   "metadata": {},
   "source": [
    "## lecture file Json et recup de results"
   ]
  },
  {
   "cell_type": "code",
   "execution_count": 5,
   "id": "772c50c8-9efc-4f89-ac15-8a3184cf565c",
   "metadata": {},
   "outputs": [],
   "source": [
    "with open(\"200_751adea7_edfc_4626_acdb_adbe32336a33.log\", \"r\") as file : \n",
    "    data = json.load(file)\n",
    "\n",
    "data = data[\"content\"][\"results\"]"
   ]
  },
  {
   "cell_type": "markdown",
   "id": "97716c4b-1660-496b-a2ad-5abb7eaa3d53",
   "metadata": {},
   "source": [
    "#  traitement table "
   ]
  },
  {
   "cell_type": "markdown",
   "id": "50c95ecc-fac2-41be-b49e-3354d966fb66",
   "metadata": {
    "jp-MarkdownHeadingCollapsed": true
   },
   "source": [
    "## aliance"
   ]
  },
  {
   "cell_type": "code",
   "execution_count": 6,
   "id": "140904b5-2e36-4746-b33f-50444ac054ae",
   "metadata": {},
   "outputs": [],
   "source": [
    "alliance = data['alliances']\n",
    "\n",
    "query = \"INSERT INTO WORK_ALLIANCE (id_alliance, code_alliance, name) VALUES \"\n",
    "i = 1\n",
    "for key, item in alliance.items():\n",
    "    code_alliance = int(key)\n",
    "    name = item['name']\n",
    "    query += f\"({i}, {code_alliance}, '{name}'),\"\n",
    "    i += 1\n",
    "\n",
    "query = query[:-1] + \";\"\n",
    "execute_query(query)\n",
    "\n",
    "query = \"INSERT INTO ALLIANCE (code_alliance, name) SELECT code_alliance, name FROM WORK_ALLIANCE WHERE NOT EXISTS ( SELECT 1 FROM ALLIANCE WHERE ALLIANCE.code_alliance = WORK_ALLIANCE.code_alliance );\"\n",
    "\n",
    "execute_query(query)"
   ]
  },
  {
   "cell_type": "markdown",
   "id": "90638b41-bf29-4761-b845-9e4b868189f6",
   "metadata": {},
   "source": [
    "## carriere"
   ]
  },
  {
   "cell_type": "markdown",
   "id": "a17240ee-13f2-4105-88fa-b4b4c97ff6d0",
   "metadata": {},
   "source": [
    "### remplisage sans id alliance (avec code_alliance)"
   ]
  },
  {
   "cell_type": "code",
   "execution_count": 7,
   "id": "2c1a5e74-41c2-4d53-b4d6-52930753fe76",
   "metadata": {},
   "outputs": [],
   "source": [
    "carriere = data['carriers']\n",
    "\n",
    "query = \"INSERT INTO WORK_CARRIERE (id_carriere, code_carriere, code_alliance,img_url, iata, icao, displaycode, name) VALUES \"\n",
    "\n",
    "i = 1\n",
    "for key, item in carriere.items():\n",
    "    code_carriere = int(key)\n",
    "    name = item['name']\n",
    "    try:\n",
    "        alliance_code = int(item['allianceId'])\n",
    "    except:\n",
    "        alliance_code = \"NULL\"\n",
    "    img_url = item['imageUrl']\n",
    "    iata = item['iata']\n",
    "    icao = item['icao']\n",
    "    displaycode = item['displayCode']\n",
    "    \n",
    "    query += f\"({i}, {code_carriere}, {alliance_code}, '{img_url}', '{iata}', '{icao}', '{displaycode}', '{name}'),\"\n",
    "    i += 1\n",
    "\n",
    "query = query[:-1] + \";\"\n",
    "execute_query(query)"
   ]
  },
  {
   "cell_type": "markdown",
   "id": "27faff6c-6a26-4862-a1c5-7ed08bf72f58",
   "metadata": {},
   "source": [
    "### jointure pour recuperer id"
   ]
  },
  {
   "cell_type": "code",
   "execution_count": 8,
   "id": "cdf137b6-ccf2-48a0-a4d5-88fe2a8238ab",
   "metadata": {},
   "outputs": [],
   "source": [
    "query = \"INSERT INTO WORK_CARRIERE2 (id_carriere, code_carriere, id_alliance,img_url, iata, icao, displaycode, name) SELECT id_carriere, code_carriere, id_alliance, img_url, iata, icao, displaycode, wc.name FROM ALLIANCE wa RIGHT JOIN WORK_CARRIERE wc on wa.code_alliance = wc.code_alliance;\"\n",
    "\n",
    "execute_query(query)\n",
    "\n",
    "query = \"INSERT INTO CARRIERE (code_carriere, id_alliance,img_url, iata, icao, displaycode, name) SELECT code_carriere, id_alliance,img_url, iata, icao, displaycode, name FROM WORK_CARRIERE2 WHERE NOT EXISTS (SELECT 1 FROM CARRIERE WHERE CARRIERE.code_carriere = WORK_CARRIERE2.code_carriere);\"\n",
    "execute_query(query)"
   ]
  },
  {
   "cell_type": "markdown",
   "id": "dd7e6348-9194-43f7-b568-506d0cf5f006",
   "metadata": {
    "jp-MarkdownHeadingCollapsed": true
   },
   "source": [
    "## country"
   ]
  },
  {
   "cell_type": "code",
   "execution_count": 9,
   "id": "2ee2cdd9-6afb-4ef4-a55f-860b0011e5a2",
   "metadata": {},
   "outputs": [],
   "source": [
    "places = data['places']\n",
    "\n",
    "query = \"INSERT INTO WORK_COUNTRY (id_country, code_country, name, coordinate) VALUES \"\n",
    "\n",
    "i = 1\n",
    "for key, item in places.items():\n",
    "    if item['type'] == \"PLACE_TYPE_COUNTRY\":\n",
    "        code_country = int(key)\n",
    "        name = item['name']\n",
    "        coordinate =  item[\"coordinates\"] if item[\"coordinates\"] != None else \"NULL\"\n",
    "        query += f\"({i}, {code_country}, '{name}', '{coordinate}'),\"\n",
    "        i += 1\n",
    "\n",
    "\n",
    "query = query[:-1] + \";\"\n",
    "execute_query(query)\n",
    "\n",
    "query = \"INSERT INTO COUNTRY (code_country, name, coordinate) SELECT code_country, name, coordinate FROM WORK_COUNTRY WHERE NOT EXISTS (SELECT 1 FROM COUNTRY WHERE COUNTRY.code_country = WORK_COUNTRY.code_country);\"\n",
    "execute_query(query)"
   ]
  },
  {
   "cell_type": "markdown",
   "id": "a0792406-3667-4b37-a2a6-14cbf4d3f5be",
   "metadata": {
    "jp-MarkdownHeadingCollapsed": true
   },
   "source": [
    "## city"
   ]
  },
  {
   "cell_type": "markdown",
   "id": "833bd430-5b93-44f5-9624-6d08c39f4e4d",
   "metadata": {},
   "source": [
    "### recup val"
   ]
  },
  {
   "cell_type": "code",
   "execution_count": 10,
   "id": "ef793573-d0b2-4fc5-9cbc-7f98333e546b",
   "metadata": {},
   "outputs": [],
   "source": [
    "places = data['places']\n",
    "\n",
    "query = \"INSERT INTO WORK_CITY (id_city, code_city, name, coordinate, iata, code_country) VALUES \"\n",
    "\n",
    "i = 1\n",
    "for key, item in places.items():\n",
    "    if item['type'] == \"PLACE_TYPE_CITY\":\n",
    "        code_city = int(key)\n",
    "        name = item['name']\n",
    "        coordinate =  item[\"coordinates\"] if item[\"coordinates\"] != None else \"NULL\"\n",
    "        iata = item['iata']\n",
    "        code_country = int(item['parentId'])\n",
    "        query += f\"({i}, {code_city}, '{name}', '{coordinate}', '{iata}', {code_country}),\"\n",
    "        i += 1\n",
    "\n",
    "\n",
    "query = query[:-1] + \";\"\n",
    "execute_query(query)"
   ]
  },
  {
   "cell_type": "markdown",
   "id": "f5e11220-ad99-4efa-9d80-d135b029b521",
   "metadata": {
    "jp-MarkdownHeadingCollapsed": true
   },
   "source": [
    "### join for get id_country"
   ]
  },
  {
   "cell_type": "code",
   "execution_count": 11,
   "id": "62ea7b39-5894-410c-a974-edb51a41c2d9",
   "metadata": {},
   "outputs": [],
   "source": [
    "query = \"INSERT INTO WORK_CITY2 (id_city, code_city, name, coordinate, iata, id_country) SELECT id_city, code_city, wc.name, wc.coordinate, iata, id_country FROM WORK_CITY wc LEFT JOIN COUNTRY w on wc.code_country = w.code_country;\"\n",
    "execute_query(query)\n",
    "\n",
    "query = \"INSERT INTO CITY (code_city, name, coordinate, iata, id_country) SELECT code_city, name, coordinate, iata, id_country FROM WORK_CITY2 WHERE NOT EXISTS (SELECT 1 FROM CITY WHERE CITY.code_city = WORK_CITY2.code_city);\"\n",
    "execute_query(query)"
   ]
  },
  {
   "cell_type": "markdown",
   "id": "fe800278-0b76-492e-a84d-3336e7d7aa4a",
   "metadata": {
    "jp-MarkdownHeadingCollapsed": true
   },
   "source": [
    "## airport"
   ]
  },
  {
   "cell_type": "markdown",
   "id": "f19ee8ae-2d33-41a3-9fe2-0989ff47dd10",
   "metadata": {},
   "source": [
    "### get val without id_city"
   ]
  },
  {
   "cell_type": "code",
   "execution_count": 12,
   "id": "5e364563-bf65-4d53-a5d6-73375535a312",
   "metadata": {},
   "outputs": [
    {
     "name": "stdout",
     "output_type": "stream",
     "text": [
      "INSERT INTO WORK_AIRPORT (id_airport, code_airport, name, coordinate, iata, code_city) VALUES (1, 95565051, 'Londres Gatwick', 'NULL', 'LGW', 27544008),(2, 95565070, 'Milan Malpensa', 'NULL', 'MXP', 27544068),(3, 95565077, 'Madrid-Barajas', 'NULL', 'MAD', 27544850),(4, 95673529, 'Dublin', 'NULL', 'DUB', 27540823),(5, 95673588, 'Marrakech Menara', 'NULL', 'RAK', 27546125),(6, 95673860, 'Nice', 'NULL', 'NCE', 27545091),(7, 95673976, 'Bordeaux', 'NULL', 'BOD', 27539513),\n"
     ]
    }
   ],
   "source": [
    "places = data['places']\n",
    "\n",
    "query = \"INSERT INTO WORK_AIRPORT (id_airport, code_airport, name, coordinate, iata, code_city) VALUES \"\n",
    "\n",
    "i = 1\n",
    "for key, item in places.items():\n",
    "    if item['type'] == \"PLACE_TYPE_AIRPORT\":\n",
    "        code_airport = int(key)\n",
    "        name = item['name']\n",
    "        coordinate = item[\"coordinates\"] if item[\"coordinates\"] != None else \"NULL\"\n",
    "        iata = item['iata']\n",
    "        code_city = int(item['parentId'])\n",
    "        query += f\"({i}, {code_airport}, '{name}', '{coordinate}', '{iata}', {code_city}),\"\n",
    "        i += 1\n",
    "\n",
    "\n",
    "print(query)\n",
    "query = query[:-1] + \";\"\n",
    "execute_query(query)"
   ]
  },
  {
   "cell_type": "markdown",
   "id": "d30c48ce-c8aa-43a0-87e3-05d141efe62c",
   "metadata": {
    "jp-MarkdownHeadingCollapsed": true
   },
   "source": [
    "### get id city"
   ]
  },
  {
   "cell_type": "code",
   "execution_count": 13,
   "id": "ca5c3904-e131-42f0-b0fe-f2ff7e8b5ccf",
   "metadata": {},
   "outputs": [],
   "source": [
    "query = \"INSERT INTO WORK_AIRPORT2 (id_airport, code_airport, name, coordinate, iata, id_city) SELECT id_airport, code_airport, wc.name, wc.coordinate, wc.iata, id_city FROM WORK_AIRPORT wc LEFT JOIN CITY w on wc.code_city = w.code_city;\"\n",
    "execute_query(query)\n",
    "\n",
    "query = \"INSERT INTO AIRPORT (code_airport, name, coordinate, iata, id_city) SELECT code_airport, name, coordinate, iata, id_city FROM WORK_AIRPORT2 WHERE NOT EXISTS (SELECT 1 FROM AIRPORT WHERE AIRPORT.code_airport = WORK_AIRPORT2.code_airport);\"\n",
    "execute_query(query)"
   ]
  },
  {
   "cell_type": "markdown",
   "id": "c4ee85fb-3945-4c2a-904f-ad00715dc7d7",
   "metadata": {
    "jp-MarkdownHeadingCollapsed": true
   },
   "source": [
    "## segment et date"
   ]
  },
  {
   "cell_type": "markdown",
   "id": "2279ebc5-2ce5-4494-94cc-ecd4156ea5f7",
   "metadata": {},
   "source": [
    "### without id"
   ]
  },
  {
   "cell_type": "code",
   "execution_count": 14,
   "id": "5d44977e-0d05-450e-bc77-93e5f14062d8",
   "metadata": {},
   "outputs": [],
   "source": [
    "segment = data['segments']\n",
    "\n",
    "query = \"INSERT INTO WORK_SEGMENT (id_segment, code_segment, code_airport_depart,  code_airport_arrive, depart, arrive, marketing_carriere_id, operational_carriere_id, marketing_flight_number, duration_minute) VALUES \"\n",
    "t_arr = []\n",
    "t_dep = []\n",
    "i = 1\n",
    "for key, item in segment.items():\n",
    "    code_segment = key\n",
    "    code_airport_depart = item['originPlaceId']\n",
    "    code_airport_arrive = item['destinationPlaceId']\n",
    "    dep = item['departureDateTime']\n",
    "    arr = item['arrivalDateTime']\n",
    "    depart = dt.datetime(dep['year'], dep['month'], dep['day'], dep['hour'], dep['minute'], dep['second']).timestamp()\n",
    "    arrive = dt.datetime(arr['year'], arr['month'], arr['day'], arr['hour'], arr['minute'], arr['second']).timestamp()\n",
    "    duration = item['durationInMinutes']\n",
    "    marketing_flight_number = item['marketingFlightNumber']\n",
    "    marketing_carrer_id = item['marketingCarrierId']\n",
    "    operatin_carrier_id = item['operatingCarrierId']\n",
    "    t_dep.append(depart)\n",
    "    t_arr.append(arrive)\n",
    "    query += f\"({i}, '{code_segment}', {code_airport_depart}, {code_airport_arrive}, TO_TIMESTAMP({depart}), TO_TIMESTAMP({arrive}), {marketing_carrer_id}, {operatin_carrier_id}, {marketing_flight_number}, {duration}),\"\n",
    "    i += 1\n",
    "\n",
    "t_arr = list(set(t_arr))\n",
    "t_dep = list(set(t_dep))\n",
    "\n",
    "query_dep = \"INSERT INTO WORK_DEPART (id_depart, date) VALUES \"\n",
    "i = 1\n",
    "for date in t_dep:\n",
    "    query_dep += f\"({i}, TO_TIMESTAMP({date})),\"\n",
    "    i += 1\n",
    "\n",
    "\n",
    "query_arr = \"INSERT INTO WORK_ARRIVER (id_arriver, date) VALUES \"\n",
    "i = 1\n",
    "for date in t_arr:\n",
    "    query_arr += f\"({i}, TO_TIMESTAMP({date})),\"\n",
    "    i += 1\n",
    "\n",
    "query = query[:-1] + \";\"\n",
    "query_arr = query_arr[:-1] + \";\"\n",
    "query_dep = query_dep[:-1] + \";\"\n",
    "\n",
    "execute_query(query)\n",
    "execute_query(query_arr)\n",
    "execute_query(query_dep)"
   ]
  },
  {
   "cell_type": "markdown",
   "id": "9ae2b72a-6067-47de-858c-cba18a443e6e",
   "metadata": {},
   "source": [
    "### get id"
   ]
  },
  {
   "cell_type": "code",
   "execution_count": 15,
   "id": "6e62244e-13a7-4f73-b777-d76f4481a870",
   "metadata": {},
   "outputs": [],
   "source": [
    "query = \"\"\"\n",
    "INSERT INTO DEPART (date)\n",
    "SELECT date\n",
    "FROM WORK_DEPART\n",
    "WHERE NOT EXISTS (\n",
    "    SELECT 1 \n",
    "    FROM DEPART \n",
    "    WHERE DEPART.date = WORK_DEPART.date\n",
    ");\n",
    "\n",
    "INSERT INTO ARRIVER (date)\n",
    "SELECT date\n",
    "FROM WORK_ARRIVER\n",
    "WHERE NOT EXISTS (\n",
    "    SELECT 1 \n",
    "    FROM ARRIVER \n",
    "    WHERE ARRIVER.date = WORK_ARRIVER.date\n",
    ");\n",
    "\"\"\"\n",
    "\n",
    "execute_query(query)\n",
    "\n",
    "query = \"\"\"\n",
    "INSERT INTO SEGMENT (code_segment, id_airport_depart, id_airport_arrive, id_depart, id_arrive, marketing_carriere_id, operational_carriere_id, marketing_flight_number, duration_minute)\n",
    "SELECT ws.code_segment, wa2.id_airport, wa22.id_airport, wd.id_depart, wa.id_arriver, wc2.id_carriere, wc.id_carriere, ws.marketing_flight_number, ws.duration_minute\n",
    "FROM WORK_SEGMENT ws \n",
    "LEFT JOIN DEPART wd on ws.depart = wd.date\n",
    "LEFT JOIN ARRIVER wa on ws.arrive = wa.date\n",
    "LEFT JOIN AIRPORT wa2 on ws.code_airport_depart = wa2.code_airport\n",
    "LEFT JOIN AIRPORT wa22 on ws.code_airport_arrive = wa22.code_airport\n",
    "LEFT JOIN CARRIERE wc on ws.operational_carriere_id = wc.code_carriere\n",
    "LEFT JOIN CARRIERE wc2 on ws.marketing_carriere_id = wc2.code_carriere\n",
    "WHERE NOT EXISTS (\n",
    "    SELECT 1\n",
    "    FROM SEGMENT\n",
    "    WHERE SEGMENT.code_segment = ws.code_segment\n",
    ");\n",
    "\"\"\"\n",
    "\n",
    "execute_query(query)"
   ]
  },
  {
   "cell_type": "markdown",
   "id": "bd87d831-6b1f-4548-a02c-fe78494953ef",
   "metadata": {
    "jp-MarkdownHeadingCollapsed": true
   },
   "source": [
    "## agent"
   ]
  },
  {
   "cell_type": "code",
   "execution_count": 16,
   "id": "f6dd76f3-4af7-4884-8fcf-df77457f06f9",
   "metadata": {},
   "outputs": [],
   "source": [
    "agent = data['agents']\n",
    "\n",
    "query = \"INSERT INTO WORK_AGENT (id_agent, code_agent, name,type, img_url, feedback_count, rating, is_optimise_formability, custom_service, reliable_price, clear_extract_fees, easy_of_booking, other) VALUES \"\n",
    "\n",
    "i = 1\n",
    "for key, item in agent.items():\n",
    "    name = item['name']\n",
    "    type_a = item['type']\n",
    "    img = item['imageUrl']\n",
    "    feedback = item['feedbackCount']\n",
    "    rating = item['rating']\n",
    "    is_optime = item['isOptimisedForMobile']\n",
    "    rating_b = item['ratingBreakdown']\n",
    "    custom_service = rating_b['customerService'] if rating_b != None else 'NULL'\n",
    "    reliable_price = rating_b['reliablePrices'] if rating_b != None else 'NULL'\n",
    "    clear_extract = rating_b['clearExtraFees'] if rating_b != None else 'NULL'\n",
    "    easy_of = rating_b['easeOfBooking'] if rating_b != None else 'NULL'\n",
    "    other = rating_b['other'] if rating_b != None else 'NULL'\n",
    "    query += f\"({i}, '{key}', '{name}', '{type_a}', '{img}', {feedback}, {rating}, {is_optime}, {custom_service}, {reliable_price}, {clear_extract}, {easy_of}, {other}),\"\n",
    "    i += 1\n",
    "\n",
    "\n",
    "query = query[:-1] + \";\"\n",
    "execute_query(query)\n",
    "\n",
    "query = \"\"\"\n",
    "BEGIN TRANSACTION;\n",
    "MERGE INTO AGENT AS cible\n",
    "USING  WORK_AGENT AS source\n",
    "ON cible.code_agent = source.code_agent AND end_at IS NULL \n",
    "AND (cible.name != source.name OR \n",
    "    cible.type = source.type OR\n",
    "    cible.img_url = source.img_url OR\n",
    "    cible.feedback_count != source.feedback_count OR \n",
    "    cible.rating != source.rating OR\n",
    "    cible.is_optimise_formability != source.is_optimise_formability OR\n",
    "    cible.custom_service != source.custom_service OR \n",
    "    cible.reliable_price != source.reliable_price OR \n",
    "    cible.clear_extract_fees != source.clear_extract_fees OR \n",
    "    cible.easy_of_booking != source.easy_of_booking OR \n",
    "    cible.other != source.other )\n",
    "WHEN MATCHED THEN\n",
    "    UPDATE SET end_at = CURRENT_DATE;\n",
    "    \n",
    "\n",
    "COMMIT;\n",
    "\n",
    "INSERT INTO AGENT (code_agent, name,type, img_url, feedback_count, rating, is_optimise_formability, custom_service, reliable_price, clear_extract_fees, easy_of_booking, other, start_at)\n",
    "SELECT source.code_agent, source.name,source.type, source.img_url, source.feedback_count, source.rating, source.is_optimise_formability, source.custom_service, source.reliable_price, source.clear_extract_fees, source.easy_of_booking, source.other, CURRENT_DATE\n",
    "FROM WORK_AGENT AS source\n",
    "WHERE NOT EXISTS (\n",
    "    SELECT 1 \n",
    "    FROM AGENT AS cible\n",
    "    WHERE cible.code_agent = source.code_agent \n",
    "\tAND cible.end_at IS NULL \n",
    ");\n",
    "\"\"\"\n",
    "\n",
    "execute_query(query)"
   ]
  },
  {
   "cell_type": "markdown",
   "id": "0e605874-4144-465c-97b4-2253a7edbfca",
   "metadata": {
    "jp-MarkdownHeadingCollapsed": true
   },
   "source": [
    "## leg"
   ]
  },
  {
   "cell_type": "code",
   "execution_count": 17,
   "id": "88162a8d-3f05-4a49-bd04-808bf8d76b7a",
   "metadata": {},
   "outputs": [],
   "source": [
    "query_leg = \"INSERT INTO WORK_LEG (code_leg, airport_depart, airport_arrive, depart, arrive, stop_count, duration_minute) VALUES \"\n",
    "query_seg_leg = \"INSERT INTO WORK_SEGMENT_LEG (code_leg, code_segment) VALUES \"\n",
    "\n",
    "leg = data['legs']\n",
    "for key, item in leg.items(): \n",
    "    arrive = dt.datetime(item['arrivalDateTime']['year'], item['arrivalDateTime']['month'], item['arrivalDateTime']['day'], item['arrivalDateTime']['hour'], item['arrivalDateTime']['minute'], item['arrivalDateTime']['second']).timestamp()\n",
    "    depart = dt.datetime(item['departureDateTime']['year'], item['departureDateTime']['month'], item['departureDateTime']['day'], item['departureDateTime']['hour'], item['departureDateTime']['minute'], item['departureDateTime']['second']).timestamp()\n",
    "    query_leg += f\"('{key}', {item['originPlaceId']}, {item['destinationPlaceId']}, TO_TIMESTAMP({depart}), TO_TIMESTAMP({arrive}), {item['stopCount']}, {item['durationInMinutes']}),\"\n",
    "\n",
    "    for i in item['segmentIds']: \n",
    "        query_seg_leg += f\"('{key}', '{i}'),\"\n",
    "\n",
    "query_leg = query_leg[:-1] + \";\"\n",
    "query_seg_leg = query_seg_leg[:-1] + \";\"\n",
    "\n",
    "execute_query(query_leg)\n",
    "execute_query(query_seg_leg)"
   ]
  },
  {
   "cell_type": "markdown",
   "id": "5b60ae0c-91cf-4b40-bb58-53af996e9467",
   "metadata": {},
   "source": [
    "### final request for leg en seg_leg"
   ]
  },
  {
   "cell_type": "code",
   "execution_count": 18,
   "id": "7539f4e7-05f0-49c8-b6cf-fc8d0d45ff85",
   "metadata": {},
   "outputs": [],
   "source": [
    "query = \"\"\"\n",
    "INSERT INTO LEG (code_leg, airport_depart, airport_arrive, depart, arrive, stop_count, duration_minute)\n",
    "SELECT code_leg, airport_depart, airport_arrive, depart, arrive, stop_count, duration_minute\n",
    "FROM WORK_LEG\n",
    "WHERE NOT EXISTS (\n",
    "    SELECT 1 \n",
    "    FROM LEG \n",
    "    WHERE LEG.code_leg = WORK_LEG.code_leg\n",
    ");\n",
    "\"\"\"\n",
    "execute_query(query)\n",
    "\n",
    "query = \"\"\"\n",
    "INSERT INTO SEGMENT_LEG (id_leg, id_segment)\n",
    "SELECT l.id_leg, s.id_segment FROM WORK_SEGMENT_LEG wsl JOIN LEG l ON wsl.code_leg = l.code_leg JOIN SEGMENT s ON wsl.code_segment = s.code_segment WHERE NOT EXISTS (\n",
    "    SELECT 1 FROM SEGMENT_LEG sl WHERE sl.id_leg = l.id_leg AND sl.id_segment = s.id_segment\n",
    ");\n",
    "\"\"\"\n",
    "\n",
    "execute_query(query)"
   ]
  },
  {
   "cell_type": "markdown",
   "id": "e6ae100a-77f6-417b-bfee-6248af7cfc6c",
   "metadata": {
    "jp-MarkdownHeadingCollapsed": true
   },
   "source": [
    "## itineraire, pricing option, pricing fare, seg leg"
   ]
  },
  {
   "cell_type": "code",
   "execution_count": 19,
   "id": "c1babfc1-fa58-4d6f-be74-e662c43793bb",
   "metadata": {},
   "outputs": [],
   "source": [
    "itineraires = data['itineraries']\n",
    "query_itineraire = \"INSERT INTO WORK_ITINERAIRE (code_itineraire, sustainable_data) VALUES \"\n",
    "query_pricing_option = \"INSERT INTO WORK_PRICINGOPTION (code_itineraire, amount, unit, status, tranfert_type, id, pricing_option_fare) VALUES \"\n",
    "query_pricing_fare = \"INSERT INTO WORK_PRICINGFARE (code_agent, amount, unit, update_status, deeplink, booking_code, fare_basis_code, code_segment) VALUES \"\n",
    "query_seg_leg = \"INSERT INTO WORK_ITINERAIRE_LEG (code_itineraire, code_leg) VALUES \"\n",
    "\n",
    "for key, itineraire in itineraires.items():\n",
    "    query_itineraire += f\"('{key}', '{itineraire['sustainabilityData']}'),\"\n",
    "\n",
    "    for item in itineraire['legIds']: \n",
    "        query_seg_leg += f\"('{key}', '{item}'),\"\n",
    "\n",
    "    for j, po in enumerate(itineraire['pricingOptions'], start=1):\n",
    "        query_pricing_option += f\"\"\"('{key}', {po['price']['amount']}, '{po['price']['unit']}', '{po['price']['updateStatus']}', '{po['transferType']}', '{po['id']}', '{po['pricingOptionFare']}'),\"\"\"\n",
    "\n",
    "        for k, pf in enumerate(po['items'], start=1):\n",
    "            template = f\"\"\"('{pf['agentId']}', {pf['price']['amount']}, '{pf['price']['unit']}', '{pf['price']['updateStatus']}', '{pf['deepLink']}',\"\"\"\n",
    "            for item in pf['fares']:\n",
    "                query_pricing_fare = query_pricing_fare + template + f\"\"\"'{item['bookingCode']}', '{item['fareBasisCode']}', '{item['segmentId']}'),\"\"\"\n",
    "\n",
    "    \n",
    "\n",
    "query_itineraire = query_itineraire[:-1] + \";\"\n",
    "query_pricing_option = query_pricing_option[:-1] + \";\"\n",
    "query_pricing_fare = query_pricing_fare[:-1] + \";\"\n",
    "query_seg_leg = query_seg_leg[:-1] + \";\"\n",
    "\n",
    "execute_query(query_itineraire)\n",
    "execute_query(query_pricing_option)\n",
    "execute_query(query_pricing_fare)\n",
    "execute_query(query_seg_leg)"
   ]
  },
  {
   "cell_type": "markdown",
   "id": "94681fc1-f769-4358-9b9e-bf887185af1e",
   "metadata": {},
   "source": [
    "### final request for itinerary, prising option, prising fare,leg_itinerary"
   ]
  },
  {
   "cell_type": "code",
   "execution_count": 20,
   "id": "be259ef9-0ebf-4d90-970f-d8033fa2b810",
   "metadata": {},
   "outputs": [],
   "source": [
    "query = \"\"\"\n",
    "INSERT INTO ITINERAIRE (code_itineraire, sustainable_data)\n",
    "SELECT code_itineraire, sustainable_data\n",
    "FROM WORK_ITINERAIRE\n",
    "WHERE NOT EXISTS (\n",
    "    SELECT 1 \n",
    "    FROM ITINERAIRE \n",
    "    WHERE ITINERAIRE.code_itineraire = WORK_ITINERAIRE.code_itineraire\n",
    ");\n",
    "\"\"\"\n",
    "execute_query(query)\n",
    "\n",
    "query = \"\"\"\n",
    "INSERT INTO ITINERAIRE_LEG (id_leg, id_itineraire)\n",
    "SELECT l.id_leg, i.id_itineraire FROM WORK_ITINERAIRE_LEG sil JOIN LEG l ON sil.code_leg = l.code_leg JOIN ITINERAIRE i ON sil.code_itineraire = i.code_itineraire WHERE NOT EXISTS (\n",
    "    SELECT 1 FROM ITINERAIRE_LEG sl WHERE sl.id_leg = l.id_leg AND sl.id_itineraire = i.id_itineraire\n",
    ");\n",
    "\"\"\"\n",
    "execute_query(query)\n",
    "\n",
    "query = \"\"\"\n",
    "INSERT INTO PRICINGOPTION (id_itineraire, amount, unit, status, tranfert_type, id, pricing_option_fare)\n",
    "SELECT id_itineraire, amount, unit, status, tranfert_type, id, pricing_option_fare\n",
    "FROM WORK_PRICINGOPTION wpo JOIN ITINERAIRE i ON wpo.code_itineraire = i.code_itineraire;\n",
    "\"\"\"\n",
    "execute_query(query)\n",
    "\n",
    "query = \"\"\"\n",
    "INSERT INTO PRICINGFARE (id_agent, amount, unit, update_status, deeplink, booking_code, fare_basis_code, id_segment)\n",
    "SELECT id_agent, amount, unit, update_status, deeplink, booking_code, fare_basis_code, id_segment\n",
    "FROM WORK_PRICINGFARE wpf JOIN SEGMENT s ON wpf.code_segment = s.code_segment JOIN AGENT a ON wpf.code_agent = a.code_agent;\n",
    "\"\"\"\n",
    "execute_query(query)"
   ]
  },
  {
   "cell_type": "markdown",
   "id": "a4255e3d-4858-427f-9578-4a54649925d0",
   "metadata": {
    "jp-MarkdownHeadingCollapsed": true
   },
   "source": [
    "# close connexion"
   ]
  },
  {
   "cell_type": "code",
   "execution_count": 21,
   "id": "ce8319e8-19ac-4c99-92bb-201d42905837",
   "metadata": {},
   "outputs": [],
   "source": [
    "conn.close()"
   ]
  }
 ],
 "metadata": {
  "kernelspec": {
   "display_name": "Python 3 (ipykernel)",
   "language": "python",
   "name": "python3"
  },
  "language_info": {
   "codemirror_mode": {
    "name": "ipython",
    "version": 3
   },
   "file_extension": ".py",
   "mimetype": "text/x-python",
   "name": "python",
   "nbconvert_exporter": "python",
   "pygments_lexer": "ipython3",
   "version": "3.12.3"
  }
 },
 "nbformat": 4,
 "nbformat_minor": 5
}
